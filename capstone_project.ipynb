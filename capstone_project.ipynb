{
 "cells": [
  {
   "cell_type": "markdown",
   "id": "16d8aa09-394f-4211-b0a5-ab8571be391b",
   "metadata": {},
   "source": [
    "# IMPORTING LIBRARIES "
   ]
  },
  {
   "cell_type": "code",
   "execution_count": 4,
   "id": "48e2ba3d-26ba-4364-b988-215ca4406043",
   "metadata": {},
   "outputs": [],
   "source": [
    "import os\n",
    "import cv2\n",
    "import numpy as np\n",
    "import matplotlib.pyplot as plt\n",
    "from sklearn.model_selection import train_test_split\n",
    "from tensorflow.keras.models import Sequential\n",
    "from tensorflow.keras.layers import Conv2D, MaxPooling2D, Flatten, Dense, Dropout\n",
    "from tensorflow.keras.optimizers import Adam\n",
    "from tensorflow.keras.preprocessing.image import ImageDataGenerator\n",
    "from tensorflow.keras.callbacks import EarlyStopping\n",
    "from sklearn.metrics import classification_report, confusion_matrix"
   ]
  },
  {
   "cell_type": "code",
   "execution_count": null,
   "id": "bc7e9c31-62ee-485c-a123-bc839fe7c7bf",
   "metadata": {},
   "outputs": [],
   "source": []
  },
  {
   "cell_type": "markdown",
   "id": "39933a8a",
   "metadata": {},
   "source": [
    "### Data Collection and and preprocessing"
   ]
  },
  {
   "cell_type": "code",
   "execution_count": 5,
   "id": "80f063ef-7335-4dca-9d0d-b9e532c742e0",
   "metadata": {},
   "outputs": [
    {
     "name": "stdout",
     "output_type": "stream",
     "text": [
      "Found 32398 images belonging to 3 classes.\n",
      "Found 10500 images belonging to 3 classes.\n"
     ]
    }
   ],
   "source": [
    "train_dir = 'C:/Users/Admin/Desktop/ds_&_da/capstone_project/train'\n",
    "test_dir = 'C:/Users/Admin/Desktop/ds_&_da/capstone_project/test'\n",
    "\n",
    "train_datagen = ImageDataGenerator(rescale=1./255)\n",
    "test_datagen = ImageDataGenerator(rescale=1./255)\n",
    "\n",
    "train_generator = train_datagen.flow_from_directory(\n",
    "    train_dir,\n",
    "    target_size=(128, 128),  # Adjust the target size as needed\n",
    "    batch_size=32,           # Adjust batch size as needed\n",
    "    class_mode='categorical' # Assuming you have multiple classes\n",
    ")\n",
    "\n",
    "test_generator = test_datagen.flow_from_directory(\n",
    "    test_dir,\n",
    "    target_size=(128, 128),\n",
    "    batch_size=32,\n",
    "    class_mode='categorical'\n",
    ")\n"
   ]
  },
  {
   "cell_type": "code",
   "execution_count": 6,
   "id": "38da50a7-3830-4db6-8695-1a72ab73a982",
   "metadata": {},
   "outputs": [
    {
     "name": "stdout",
     "output_type": "stream",
     "text": [
      "Model: \"sequential\"\n",
      "_________________________________________________________________\n",
      " Layer (type)                Output Shape              Param #   \n",
      "=================================================================\n",
      " conv2d (Conv2D)             (None, 126, 126, 32)      896       \n",
      "                                                                 \n",
      " max_pooling2d (MaxPooling2D  (None, 63, 63, 32)       0         \n",
      " )                                                               \n",
      "                                                                 \n",
      " conv2d_1 (Conv2D)           (None, 61, 61, 64)        18496     \n",
      "                                                                 \n",
      " max_pooling2d_1 (MaxPooling  (None, 30, 30, 64)       0         \n",
      " 2D)                                                             \n",
      "                                                                 \n",
      " conv2d_2 (Conv2D)           (None, 28, 28, 128)       73856     \n",
      "                                                                 \n",
      " max_pooling2d_2 (MaxPooling  (None, 14, 14, 128)      0         \n",
      " 2D)                                                             \n",
      "                                                                 \n",
      " flatten (Flatten)           (None, 25088)             0         \n",
      "                                                                 \n",
      " dense (Dense)               (None, 512)               12845568  \n",
      "                                                                 \n",
      " dropout (Dropout)           (None, 512)               0         \n",
      "                                                                 \n",
      " dense_1 (Dense)             (None, 3)                 1539      \n",
      "                                                                 \n",
      "=================================================================\n",
      "Total params: 12,940,355\n",
      "Trainable params: 12,940,355\n",
      "Non-trainable params: 0\n",
      "_________________________________________________________________\n"
     ]
    }
   ],
   "source": [
    "from tensorflow.keras.models import Sequential\n",
    "from tensorflow.keras.layers import Conv2D, MaxPooling2D, Flatten, Dense, Dropout\n",
    "\n",
    "# Initialize the CNN\n",
    "model = Sequential()\n",
    "\n",
    "# Step 1 - Convolution\n",
    "model.add(Conv2D(32, (3, 3), activation='relu', input_shape=(128, 128, 3)))\n",
    "\n",
    "# Step 2 - Pooling\n",
    "model.add(MaxPooling2D(pool_size=(2, 2)))\n",
    "\n",
    "# Adding a second convolutional layer\n",
    "model.add(Conv2D(64, (3, 3), activation='relu'))\n",
    "model.add(MaxPooling2D(pool_size=(2, 2)))\n",
    "\n",
    "# Adding a third convolutional layer\n",
    "model.add(Conv2D(128, (3, 3), activation='relu'))\n",
    "model.add(MaxPooling2D(pool_size=(2, 2)))\n",
    "\n",
    "# Step 3 - Flattening\n",
    "model.add(Flatten())\n",
    "\n",
    "# Step 4 - Full connection\n",
    "model.add(Dense(units=512, activation='relu'))\n",
    "model.add(Dropout(0.5))\n",
    "\n",
    "# Step 5 - Output Layer\n",
    "model.add(Dense(units=3, activation='softmax'))\n",
    "\n",
    "# Compiling the CNN\n",
    "model.compile(optimizer='adam', loss='categorical_crossentropy', metrics=['accuracy'])\n",
    "\n",
    "# Print a summary of the model architecture\n",
    "model.summary()\n"
   ]
  },
  {
   "cell_type": "markdown",
   "id": "45293dc3-26cc-4485-b41f-86510a081c25",
   "metadata": {},
   "source": [
    "history = model.fit(\n",
    "    train_generator,\n",
    "    steps_per_epoch=len(train_generator),\n",
    "    epochs=10,  # Adjust number of epochs as needed\n",
    "    validation_data=test_generator,\n",
    "    validation_steps=len(test_generator)\n",
    ")"
   ]
  },
  {
   "cell_type": "markdown",
   "id": "ce31e609-65a8-4f14-b2c7-71e1d2b9171b",
   "metadata": {},
   "source": [
    "# Training the CNN model"
   ]
  },
  {
   "cell_type": "code",
   "execution_count": 7,
   "id": "98669936-4a57-4d18-811f-ab7ef7e64f73",
   "metadata": {},
   "outputs": [
    {
     "name": "stdout",
     "output_type": "stream",
     "text": [
      "Epoch 1/10\n",
      "1013/1013 [==============================] - 658s 648ms/step - loss: 0.2617 - accuracy: 0.9061 - val_loss: 0.2024 - val_accuracy: 0.9280\n",
      "Epoch 2/10\n",
      "1013/1013 [==============================] - 589s 581ms/step - loss: 0.1617 - accuracy: 0.9460 - val_loss: 0.1895 - val_accuracy: 0.9292\n",
      "Epoch 3/10\n",
      "1013/1013 [==============================] - 604s 596ms/step - loss: 0.1236 - accuracy: 0.9606 - val_loss: 0.1249 - val_accuracy: 0.9590\n",
      "Epoch 4/10\n",
      "1013/1013 [==============================] - 620s 612ms/step - loss: 0.0974 - accuracy: 0.9685 - val_loss: 0.0996 - val_accuracy: 0.9650\n",
      "Epoch 5/10\n",
      "1013/1013 [==============================] - 588s 580ms/step - loss: 0.0726 - accuracy: 0.9763 - val_loss: 0.0740 - val_accuracy: 0.9754\n",
      "Epoch 6/10\n",
      "1013/1013 [==============================] - 596s 588ms/step - loss: 0.0612 - accuracy: 0.9793 - val_loss: 0.0798 - val_accuracy: 0.9767\n",
      "Epoch 7/10\n",
      "1013/1013 [==============================] - 599s 591ms/step - loss: 0.0506 - accuracy: 0.9836 - val_loss: 0.0952 - val_accuracy: 0.9736\n",
      "Epoch 8/10\n",
      "1013/1013 [==============================] - 585s 578ms/step - loss: 0.0521 - accuracy: 0.9834 - val_loss: 0.0728 - val_accuracy: 0.9795\n",
      "Epoch 9/10\n",
      "1013/1013 [==============================] - 694s 684ms/step - loss: 0.0400 - accuracy: 0.9873 - val_loss: 0.1640 - val_accuracy: 0.9563\n",
      "Epoch 10/10\n",
      "1013/1013 [==============================] - 843s 832ms/step - loss: 0.0386 - accuracy: 0.9870 - val_loss: 0.1332 - val_accuracy: 0.9687\n"
     ]
    }
   ],
   "source": [
    "# Define the number of training and validation steps per epoch\n",
    "train_steps = len(train_generator)\n",
    "test_steps = len(test_generator)\n",
    "\n",
    "# Train the model\n",
    "history = model.fit(\n",
    "    train_generator,\n",
    "    steps_per_epoch=train_steps,\n",
    "    epochs=10,  # Adjust number of epochs as needed\n",
    "    validation_data=test_generator,\n",
    "    validation_steps=test_steps\n",
    ")\n"
   ]
  },
  {
   "cell_type": "markdown",
   "id": "8f2577e1",
   "metadata": {},
   "source": [
    "### EVALUATION AND PREDICTION\n"
   ]
  },
  {
   "cell_type": "code",
   "execution_count": 10,
   "id": "ea8e5948-7567-4df2-b4dd-8da2715fedf3",
   "metadata": {},
   "outputs": [
    {
     "name": "stdout",
     "output_type": "stream",
     "text": [
      "329/329 [==============================] - 111s 338ms/step\n",
      "Number of true classes: 10500\n",
      "Number of predicted classes: 10500\n"
     ]
    },
    {
     "data": {
      "image/png": "[encoded data removed]",
      "text/plain": [
       "<Figure size 1000x800 with 2 Axes>"
      ]
     },
     "metadata": {},
     "output_type": "display_data"
    }
   ],
   "source": [
    "\n",
    "# Ensure the test generator is reset before predictions\n",
    "test_generator.reset()\n",
    "\n",
    "# Calculate the number of steps for predictions\n",
    "test_steps = np.ceil(test_generator.samples / test_generator.batch_size)\n",
    "\n",
    "# Generate predictions\n",
    "predictions = model.predict(test_generator, steps=test_steps, verbose=1)\n",
    "\n",
    "# Ensure predicted_classes and true_classes have the same length\n",
    "predicted_classes = np.argmax(predictions, axis=1)\n",
    "true_classes = test_generator.classes\n",
    "\n",
    "# Print lengths for debugging\n",
    "print(f'Number of true classes: {len(true_classes)}')\n",
    "print(f'Number of predicted classes: {len(predicted_classes)}')\n",
    "\n",
    "# Check if there's a mismatch and handle it\n",
    "if len(true_classes) != len(predicted_classes):\n",
    "    print(\"Mismatch in number of samples. Please check the data.\")\n",
    "else:\n",
    "    class_labels = list(test_generator.class_indices.keys())\n",
    "\n",
    "    # Compute and plot the confusion matrix\n",
    "    cm = confusion_matrix(true_classes, predicted_classes)\n",
    "    disp = ConfusionMatrixDisplay(confusion_matrix=cm, display_labels=class_labels)\n",
    "\n",
    "    # Plot confusion matrix\n",
    "    fig, ax = plt.subplots(figsize=(10, 8))\n",
    "    disp.plot(ax=ax)\n",
    "    plt.show()\n"
   ]
  },
  {
   "cell_type": "code",
   "execution_count": 11,
   "id": "6c89375c",
   "metadata": {},
   "outputs": [
    {
     "name": "stdout",
     "output_type": "stream",
     "text": [
      "              precision    recall  f1-score   support\n",
      "\n",
      "       Smoke       0.33      0.34      0.34      3500\n",
      "        fire       0.34      0.35      0.34      3500\n",
      "    non fire       0.33      0.31      0.32      3500\n",
      "\n",
      "    accuracy                           0.33     10500\n",
      "   macro avg       0.33      0.33      0.33     10500\n",
      "weighted avg       0.33      0.33      0.33     10500\n",
      "\n"
     ]
    }
   ],
   "source": [
    "\n",
    "# Generate a classification report\n",
    "report = classification_report(true_classes, predicted_classes, target_names=class_labels)\n",
    "print(report)\n"
   ]
  },
  {
   "cell_type": "markdown",
   "id": "b911127e",
   "metadata": {},
   "source": [
    "### MODEL OPTIMIZATION  AND  TUNNING"
   ]
  },
  {
   "cell_type": "code",
   "execution_count": 12,
   "id": "9d9a1dc2",
   "metadata": {},
   "outputs": [
    {
     "name": "stdout",
     "output_type": "stream",
     "text": [
      "Found 32398 images belonging to 3 classes.\n",
      "Found 10500 images belonging to 3 classes.\n"
     ]
    }
   ],
   "source": [
    "train_datagen = ImageDataGenerator(\n",
    "    rescale=1./255,\n",
    "    rotation_range=40,\n",
    "    width_shift_range=0.2,\n",
    "    height_shift_range=0.2,\n",
    "    shear_range=0.2,\n",
    "    zoom_range=0.2,\n",
    "    horizontal_flip=True,\n",
    "    fill_mode='nearest'\n",
    ")\n",
    "\n",
    "test_datagen = ImageDataGenerator(rescale=1./255)\n",
    "\n",
    "# Use the augmented data generator\n",
    "train_generator = train_datagen.flow_from_directory(\n",
    "    train_dir,\n",
    "    target_size=(128, 128),\n",
    "    batch_size=32,\n",
    "    class_mode='categorical',\n",
    "    shuffle=True\n",
    ")\n",
    "\n",
    "test_generator = test_datagen.flow_from_directory(\n",
    "    test_dir,\n",
    "    target_size=(128, 128),\n",
    "    batch_size=32,\n",
    "    class_mode='categorical'\n",
    ")"
   ]
  },
  {
   "cell_type": "markdown",
   "id": "5206cd8c",
   "metadata": {},
   "source": [
    "### Model Retraining"
   ]
  },
  {
   "cell_type": "code",
   "execution_count": 13,
   "id": "1b9a84c9",
   "metadata": {},
   "outputs": [
    {
     "name": "stdout",
     "output_type": "stream",
     "text": [
      "Epoch 1/10\n",
      "1013/1013 [==============================] - 826s 814ms/step - loss: 0.3359 - accuracy: 0.8790 - val_loss: 0.3214 - val_accuracy: 0.8910\n",
      "Epoch 2/10\n",
      "1013/1013 [==============================] - 685s 676ms/step - loss: 0.2359 - accuracy: 0.9203 - val_loss: 0.2596 - val_accuracy: 0.9096\n",
      "Epoch 3/10\n",
      "1013/1013 [==============================] - 748s 739ms/step - loss: 0.2121 - accuracy: 0.9292 - val_loss: 0.2257 - val_accuracy: 0.9240\n",
      "Epoch 4/10\n",
      "1013/1013 [==============================] - 661s 653ms/step - loss: 0.1940 - accuracy: 0.9357 - val_loss: 0.2165 - val_accuracy: 0.9252\n",
      "Epoch 5/10\n",
      "1013/1013 [==============================] - 663s 654ms/step - loss: 0.1844 - accuracy: 0.9386 - val_loss: 0.2146 - val_accuracy: 0.9263\n",
      "Epoch 6/10\n",
      "1013/1013 [==============================] - 697s 688ms/step - loss: 0.1780 - accuracy: 0.9403 - val_loss: 0.2376 - val_accuracy: 0.9160\n",
      "Epoch 7/10\n",
      "1013/1013 [==============================] - 704s 695ms/step - loss: 0.1673 - accuracy: 0.9454 - val_loss: 0.3131 - val_accuracy: 0.9107\n",
      "Epoch 8/10\n",
      "1013/1013 [==============================] - 700s 691ms/step - loss: 0.1604 - accuracy: 0.9489 - val_loss: 0.1806 - val_accuracy: 0.9437\n",
      "Epoch 9/10\n",
      "1013/1013 [==============================] - 722s 712ms/step - loss: 0.1552 - accuracy: 0.9498 - val_loss: 0.1858 - val_accuracy: 0.9374\n",
      "Epoch 10/10\n",
      "1013/1013 [==============================] - 712s 702ms/step - loss: 0.1472 - accuracy: 0.9520 - val_loss: 0.1816 - val_accuracy: 0.9435\n"
     ]
    }
   ],
   "source": [
    "model = Sequential([\n",
    "    Conv2D(32, (3, 3), activation='relu', input_shape=(128, 128, 3)),\n",
    "    MaxPooling2D(pool_size=(2, 2)),\n",
    "    Conv2D(64, (3, 3), activation='relu'),\n",
    "    MaxPooling2D(pool_size=(2, 2)),\n",
    "    Conv2D(128, (3, 3), activation='relu'),\n",
    "    MaxPooling2D(pool_size=(2, 2)),\n",
    "    Flatten(),\n",
    "    Dense(512, activation='relu'),\n",
    "    Dropout(0.5),\n",
    "    Dense(3, activation='softmax')\n",
    "])\n",
    "\n",
    "model.compile(optimizer=Adam(), loss='categorical_crossentropy', metrics=['accuracy'])\n",
    "\n",
    "# Train the model with the augmented data\n",
    "history = model.fit(\n",
    "    train_generator,\n",
    "    steps_per_epoch=len(train_generator),\n",
    "    epochs=10,\n",
    "    validation_data=test_generator,\n",
    "    validation_steps=len(test_generator)\n",
    ")"
   ]
  },
  {
   "cell_type": "code",
   "execution_count": 14,
   "id": "6f294bcb",
   "metadata": {},
   "outputs": [
    {
     "name": "stdout",
     "output_type": "stream",
     "text": [
      "Found 10500 images belonging to 3 classes.\n"
     ]
    }
   ],
   "source": [
    "test_datagen = ImageDataGenerator(rescale=1./255)\n",
    "\n",
    "test_generator = test_datagen.flow_from_directory(\n",
    "    test_dir,\n",
    "    target_size=(128, 128),\n",
    "    batch_size=32,\n",
    "    class_mode='categorical',\n",
    "    shuffle=False\n",
    ")"
   ]
  },
  {
   "cell_type": "code",
   "execution_count": 15,
   "id": "a28bf37d",
   "metadata": {},
   "outputs": [
    {
     "name": "stdout",
     "output_type": "stream",
     "text": [
      "329/329 [==============================] - 113s 342ms/step - loss: 0.1816 - accuracy: 0.9435\n",
      "Test Loss: 0.18156565725803375\n",
      "Test Accuracy: 0.9435238242149353\n"
     ]
    }
   ],
   "source": [
    "test_loss, test_accuracy = model.evaluate(test_generator, verbose=1)\n",
    "print(f\"Test Loss: {test_loss}\")\n",
    "print(f\"Test Accuracy: {test_accuracy}\")"
   ]
  },
  {
   "cell_type": "code",
   "execution_count": 16,
   "id": "bd06b72e",
   "metadata": {},
   "outputs": [
    {
     "name": "stdout",
     "output_type": "stream",
     "text": [
      "329/329 [==============================] - 112s 340ms/step\n"
     ]
    }
   ],
   "source": [
    "\n",
    "# Predict the classes of the test data\n",
    "test_generator.reset()\n",
    "predictions = model.predict(test_generator, verbose=1)\n",
    "predicted_classes = np.argmax(predictions, axis=1)\n",
    "\n",
    "# Get the true classes\n",
    "true_classes = test_generator.classes\n",
    "class_labels = list(test_generator.class_indices.keys())"
   ]
  },
  {
   "cell_type": "markdown",
   "id": "60c150c3",
   "metadata": {},
   "source": [
    "### MODEL EVALUATION AND PERFORMANCE ANALYSIS"
   ]
  },
  {
   "cell_type": "code",
   "execution_count": 17,
   "id": "b43f34bc",
   "metadata": {},
   "outputs": [
    {
     "data": {
      "image/png": "[encoded data removed]",
      "text/plain": [
       "<Figure size 1000x800 with 2 Axes>"
      ]
     },
     "metadata": {},
     "output_type": "display_data"
    }
   ],
   "source": [
    "\n",
    "# Compute confusion matrix\n",
    "cm = confusion_matrix(true_classes, predicted_classes)\n",
    "disp = ConfusionMatrixDisplay(confusion_matrix=cm, display_labels=class_labels)\n",
    "\n",
    "# Plot confusion matrix\n",
    "fig, ax = plt.subplots(figsize=(10, 8))\n",
    "disp.plot(ax=ax)\n",
    "plt.show()"
   ]
  },
  {
   "cell_type": "code",
   "execution_count": 18,
   "id": "9068695c",
   "metadata": {},
   "outputs": [
    {
     "name": "stdout",
     "output_type": "stream",
     "text": [
      "              precision    recall  f1-score   support\n",
      "\n",
      "       Smoke       0.95      0.91      0.93      3500\n",
      "        fire       0.97      0.97      0.97      3500\n",
      "    non fire       0.91      0.94      0.93      3500\n",
      "\n",
      "    accuracy                           0.94     10500\n",
      "   macro avg       0.94      0.94      0.94     10500\n",
      "weighted avg       0.94      0.94      0.94     10500\n",
      "\n"
     ]
    }
   ],
   "source": [
    "report = classification_report(true_classes, predicted_classes, target_names=class_labels)\n",
    "print(report)"
   ]
  },
  {
   "cell_type": "code",
   "execution_count": null,
   "id": "51822c8c",
   "metadata": {},
   "outputs": [],
   "source": []
  }
 ],
 "metadata": {
  "kernelspec": {
   "display_name": "Python 3 (ipykernel)",
   "language": "python",
   "name": "python3"
  },
  "language_info": {
   "codemirror_mode": {
    "name": "ipython",
    "version": 3
   },
   "file_extension": ".py",
   "mimetype": "text/x-python",
   "name": "python",
   "nbconvert_exporter": "python",
   "pygments_lexer": "ipython3",
   "version": "3.11.7"
  }
 },
 "nbformat": 4,
 "nbformat_minor": 5
}
